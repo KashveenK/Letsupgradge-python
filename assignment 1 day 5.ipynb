{
 "cells": [
  {
   "cell_type": "code",
   "execution_count": null,
   "metadata": {},
   "outputs": [],
   "source": [
    "# Write a program to identify sublist [1,1,5] is there in the given list in the same order, if yes\n",
    "# print \"It's a Match\" if no then print \"It's Gone\" in function\n"
   ]
  },
  {
   "cell_type": "code",
   "execution_count": 4,
   "metadata": {},
   "outputs": [
    {
     "name": "stdout",
     "output_type": "stream",
     "text": [
      "List : [1, 5, 6, 4, 1, 2, 3, 5]\n",
      "Sublist1 : [1, 1, 5]\n",
      "It's a match\n"
     ]
    }
   ],
   "source": [
    "lst = [1, 5, 6, 4, 1, 2, 3, 5]\n",
    "sub_lst1 = [1, 1, 5]\n",
    "\n",
    "print(\"List : \" + str(lst))\n",
    "print(\"Sublist1 : \" + str(sub_lst1))\n",
    "\n",
    "# using issubset() to check subset of list\n",
    "flag = 0\n",
    "if (set(sub_lst1).issubset(set(lst))):\n",
    "    flag = 1\n",
    "\n",
    "if (flag):\n",
    "    print(\"It's a match\")\n",
    "else:\n",
    "    print(\"It's gone\")"
   ]
  },
  {
   "cell_type": "code",
   "execution_count": null,
   "metadata": {},
   "outputs": [],
   "source": []
  }
 ],
 "metadata": {
  "kernelspec": {
   "display_name": "Python 3",
   "language": "python",
   "name": "python3"
  },
  "language_info": {
   "codemirror_mode": {
    "name": "ipython",
    "version": 3
   },
   "file_extension": ".py",
   "mimetype": "text/x-python",
   "name": "python",
   "nbconvert_exporter": "python",
   "pygments_lexer": "ipython3",
   "version": "3.8.3"
  }
 },
 "nbformat": 4,
 "nbformat_minor": 4
}

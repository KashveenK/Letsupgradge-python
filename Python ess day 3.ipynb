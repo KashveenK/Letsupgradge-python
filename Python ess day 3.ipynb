{
 "cells": [
  {
   "cell_type": "code",
   "execution_count": 5,
   "metadata": {},
   "outputs": [
    {
     "name": "stdout",
     "output_type": "stream",
     "text": [
      "Enter a Number - 1000\n"
     ]
    }
   ],
   "source": [
    "num= input(\"Enter a Number - \")"
   ]
  },
  {
   "cell_type": "code",
   "execution_count": 6,
   "metadata": {},
   "outputs": [
    {
     "data": {
      "text/plain": [
       "'1000'"
      ]
     },
     "execution_count": 6,
     "metadata": {},
     "output_type": "execute_result"
    }
   ],
   "source": [
    "num"
   ]
  },
  {
   "cell_type": "code",
   "execution_count": 7,
   "metadata": {},
   "outputs": [
    {
     "data": {
      "text/plain": [
       "1000"
      ]
     },
     "execution_count": 7,
     "metadata": {},
     "output_type": "execute_result"
    }
   ],
   "source": [
    "int(num)"
   ]
  },
  {
   "cell_type": "code",
   "execution_count": 45,
   "metadata": {},
   "outputs": [
    {
     "name": "stdout",
     "output_type": "stream",
     "text": [
      "Enter a Number - 1000\n",
      "Safe to land\n"
     ]
    }
   ],
   "source": [
    "num= input(\"Enter a Number - \")\n",
    "num = int(num)\n",
    "\n",
    "if num >5000 :\n",
    "    print(\"Turn around attempt later\")\n",
    "    \n",
    "elif num == 1000:\n",
    "    print(\"Safe to land\")\n",
    "    \n",
    "else:\n",
    "    print(\"Bring to 1000 ft\")\n",
    "        \n",
    "    \n"
   ]
  },
  {
   "cell_type": "code",
   "execution_count": 49,
   "metadata": {},
   "outputs": [
    {
     "name": "stdout",
     "output_type": "stream",
     "text": [
      "Enter a Number - 65000\n",
      "Turn around attempt later\n"
     ]
    }
   ],
   "source": [
    "num= input(\"Enter a Number - \")\n",
    "num = int(num)\n",
    "\n",
    "if num >5000 :\n",
    "    print(\"Turn around attempt later\")\n",
    "    \n",
    "elif num == 1000:\n",
    "    print(\"Safe to land\")\n",
    "    \n",
    "else:\n",
    "    print(\"Bring to 1000 ft\")\n",
    "        \n",
    "    "
   ]
  },
  {
   "cell_type": "code",
   "execution_count": 48,
   "metadata": {},
   "outputs": [
    {
     "name": "stdout",
     "output_type": "stream",
     "text": [
      "Enter a Number - 4500\n",
      "Bring to 1000 ft\n"
     ]
    }
   ],
   "source": [
    "num= input(\"Enter a Number - \")\n",
    "num = int(num)\n",
    "\n",
    "if num >5000 :\n",
    "    print(\"Turn around\")\n",
    "    \n",
    "elif num == 1000:\n",
    "    print(\"Safe to land\")\n",
    "    \n",
    "else:\n",
    "    print(\"Bring to 1000 ft\")\n",
    "        \n",
    "    "
   ]
  },
  {
   "cell_type": "code",
   "execution_count": null,
   "metadata": {},
   "outputs": [],
   "source": []
  }
 ],
 "metadata": {
  "kernelspec": {
   "display_name": "Python 3",
   "language": "python",
   "name": "python3"
  },
  "language_info": {
   "codemirror_mode": {
    "name": "ipython",
    "version": 3
   },
   "file_extension": ".py",
   "mimetype": "text/x-python",
   "name": "python",
   "nbconvert_exporter": "python",
   "pygments_lexer": "ipython3",
   "version": "3.8.3"
  }
 },
 "nbformat": 4,
 "nbformat_minor": 4
}

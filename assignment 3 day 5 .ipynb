{
 "cells": [
  {
   "cell_type": "code",
   "execution_count": 3,
   "metadata": {},
   "outputs": [
    {
     "name": "stdout",
     "output_type": "stream",
     "text": [
      "['Hey This Is Sai, I Am In Mumbai,...']\n"
     ]
    }
   ],
   "source": [
    "# Make a Lambda function for capitalizing the whole sentence passed using arguments\n",
    "# And Map all the sentences in the list, with the Lambda function\n",
    "#[\"Hey this is sai\", i am in mumbai\",...]\n",
    "#o/p\n",
    "#[\"Hey This Is Sai\", I Am In Mumbai\",...]\n",
    "\n",
    "\n",
    "\n",
    "lst = [\"Hey this is sai, i am in mumbai,...\"]\n",
    "checkCapitalizeLambda = map(lambda lst: lst.title(),lst)\n",
    "print(list(checkCapitalizeLambda))\n"
   ]
  },
  {
   "cell_type": "code",
   "execution_count": null,
   "metadata": {},
   "outputs": [],
   "source": []
  }
 ],
 "metadata": {
  "kernelspec": {
   "display_name": "Python 3",
   "language": "python",
   "name": "python3"
  },
  "language_info": {
   "codemirror_mode": {
    "name": "ipython",
    "version": 3
   },
   "file_extension": ".py",
   "mimetype": "text/x-python",
   "name": "python",
   "nbconvert_exporter": "python",
   "pygments_lexer": "ipython3",
   "version": "3.8.3"
  }
 },
 "nbformat": 4,
 "nbformat_minor": 4
}
